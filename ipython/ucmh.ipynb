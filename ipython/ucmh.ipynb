{
 "cells": [
  {
   "cell_type": "code",
   "execution_count": 1,
   "metadata": {
    "collapsed": true
   },
   "outputs": [],
   "source": [
    "import numpy as np\n",
    "import matplotlib.pyplot as plt\n",
    "import math\n",
    "from scipy.special import sici as sici\n",
    "%matplotlib inline"
   ]
  },
  {
   "cell_type": "markdown",
   "metadata": {},
   "source": [
    "$$T_\\chi(\\theta)=\\frac{6}{\\theta^2}\\left[\\ln(\\theta)+\\gamma_E-\\frac{1}{2}-Ci(\\theta)+\\frac{1}{2}j_0(\\theta)\\right]$$"
   ]
  },
  {
   "cell_type": "code",
   "execution_count": 2,
   "metadata": {
    "collapsed": true
   },
   "outputs": [],
   "source": [
    "def T_chi(theta):\n",
    "    if theta == 0:\n",
    "        return T_chi(0.000001)\n",
    "    gamma_e = 0.57721566490153286060651\n",
    "    return 6.0 * (math.log(theta) + gamma_e - 0.5 - sici(theta)[1] + 0.5 * math.sin(theta) / theta) / theta**2"
   ]
  },
  {
   "cell_type": "code",
   "execution_count": 3,
   "metadata": {
    "collapsed": false
   },
   "outputs": [
    {
     "data": {
      "text/plain": [
       "[<matplotlib.lines.Line2D at 0x1068b4950>]"
      ]
     },
     "execution_count": 3,
     "metadata": {},
     "output_type": "execute_result"
    },
    {
     "data": {
      "image/png": "[encoded data removed]",
      "text/plain": [
       "<matplotlib.figure.Figure at 0x10677e810>"
      ]
     },
     "metadata": {},
     "output_type": "display_data"
    }
   ],
   "source": [
    "theta = np.arange(0, 20., 0.001)\n",
    "T = np.array([T_chi(t) for t in theta])\n",
    "plt.plot(theta, T)"
   ]
  },
  {
   "cell_type": "markdown",
   "metadata": {},
   "source": [
    "$$W_\\mathrm{TH}(x)=3x^{-3}(\\sin(x)-x\\cos(x))$$"
   ]
  },
  {
   "cell_type": "code",
   "execution_count": 4,
   "metadata": {
    "collapsed": true
   },
   "outputs": [],
   "source": [
    "def w_th(x):\n",
    "    if x == 0:\n",
    "        return w_th(0.000001)\n",
    "    return 3. * (math.sin(x) - x * math.cos(x)) / (x**3)"
   ]
  },
  {
   "cell_type": "code",
   "execution_count": 5,
   "metadata": {
    "collapsed": false
   },
   "outputs": [
    {
     "data": {
      "text/plain": [
       "[<matplotlib.lines.Line2D at 0x106abda50>]"
      ]
     },
     "execution_count": 5,
     "metadata": {},
     "output_type": "execute_result"
    },
    {
     "data": {
      "image/png": "[encoded data removed]",
      "text/plain": [
       "<matplotlib.figure.Figure at 0x1068aab90>"
      ]
     },
     "metadata": {},
     "output_type": "display_data"
    }
   ],
   "source": [
    "x = np.arange(0, 20., 0.001)\n",
    "w = np.array([w_th(t) for t in x])\n",
    "plt.plot(x, w)"
   ]
  },
  {
   "cell_type": "markdown",
   "metadata": {},
   "source": [
    "$$\\sigma^2(R)/P_R(k_R)=\\frac{1}{9}\\int_0^\\infty x^3W_\\mathrm{TH}^2(x)T_\\chi^2(x/\\sqrt{3})x^{n_R-1}\\,dx$$"
   ]
  },
  {
   "cell_type": "code",
   "execution_count": 6,
   "metadata": {
    "collapsed": false
   },
   "outputs": [
    {
     "data": {
      "text/plain": [
       "[<matplotlib.lines.Line2D at 0x106c52650>]"
      ]
     },
     "execution_count": 6,
     "metadata": {},
     "output_type": "execute_result"
    },
    {
     "data": {
      "image/png": "[encoded data removed]",
      "text/plain": [
       "<matplotlib.figure.Figure at 0x10699f6d0>"
      ]
     },
     "metadata": {},
     "output_type": "display_data"
    }
   ],
   "source": [
    "dx = 0.01\n",
    "x_max = 20.\n",
    "n_R = 1.\n",
    "x = np.arange(dx, x_max, dx)\n",
    "factor = np.array([1. / 9. * t**3 * w_th(t)**2 * T_chi(t / math.sqrt(3))**2 for t in x])\n",
    "y = factor * pow(x, n_R - 1.)\n",
    "plt.plot(x, y)"
   ]
  },
  {
   "cell_type": "code",
   "execution_count": 7,
   "metadata": {
    "collapsed": false
   },
   "outputs": [
    {
     "name": "stdout",
     "output_type": "stream",
     "text": [
      "0.905623836915\n"
     ]
    }
   ],
   "source": [
    "sigma2 = y.sum() * dx\n",
    "print sigma2"
   ]
  },
  {
   "cell_type": "code",
   "execution_count": 8,
   "metadata": {
    "collapsed": false
   },
   "outputs": [],
   "source": [
    "join = np.zeros((len(x), 2))\n",
    "join[:, 0] = x\n",
    "join[:, 1] = factor\n",
    "np.savetxt('ucmh_int_factor.txt', join, delimiter=' ')"
   ]
  },
  {
   "cell_type": "code",
   "execution_count": null,
   "metadata": {
    "collapsed": true
   },
   "outputs": [],
   "source": []
  }
 ],
 "metadata": {
  "kernelspec": {
   "display_name": "Python 2",
   "language": "python",
   "name": "python2"
  },
  "language_info": {
   "codemirror_mode": {
    "name": "ipython",
    "version": 2
   },
   "file_extension": ".py",
   "mimetype": "text/x-python",
   "name": "python",
   "nbconvert_exporter": "python",
   "pygments_lexer": "ipython2",
   "version": "2.7.10"
  }
 },
 "nbformat": 4,
 "nbformat_minor": 0
}
